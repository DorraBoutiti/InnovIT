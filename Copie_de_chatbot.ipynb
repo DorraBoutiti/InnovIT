{
  "nbformat": 4,
  "nbformat_minor": 0,
  "metadata": {
    "colab": {
      "name": "Copie de chatbot.ipynb",
      "provenance": [],
      "collapsed_sections": [],
      "authorship_tag": "ABX9TyOef0X/EW/ajM2HUEKPIPL5",
      "include_colab_link": true
    },
    "kernelspec": {
      "name": "python3",
      "display_name": "Python 3"
    },
    "language_info": {
      "name": "python"
    }
  },
  "cells": [
    {
      "cell_type": "markdown",
      "metadata": {
        "id": "view-in-github",
        "colab_type": "text"
      },
      "source": [
        "<a href=\"https://colab.research.google.com/github/DorraBoutiti/InnovIT/blob/main/Copie_de_chatbot.ipynb\" target=\"_parent\"><img src=\"https://colab.research.google.com/assets/colab-badge.svg\" alt=\"Open In Colab\"/></a>"
      ]
    },
    {
      "cell_type": "code",
      "execution_count": null,
      "metadata": {
        "id": "aIcmi4FzAC3Q",
        "colab": {
          "base_uri": "https://localhost:8080/"
        },
        "outputId": "24246f9e-ad6a-4e4b-dca1-095289a15214"
      },
      "outputs": [
        {
          "output_type": "stream",
          "name": "stdout",
          "text": [
            "[nltk_data] Downloading package punkt to /root/nltk_data...\n",
            "[nltk_data]   Unzipping tokenizers/punkt.zip.\n"
          ]
        }
      ],
      "source": [
        "import nltk\n",
        "nltk.download('punkt')\n",
        "from nltk.stem.lancaster import LancasterStemmer\n",
        "stemmer = LancasterStemmer()"
      ]
    },
    {
      "cell_type": "code",
      "source": [
        "import numpy\n",
        "\n",
        "import tflearn\n",
        "import tensorflow\n",
        "import random\n",
        "import json\n",
        "import pickle\n"
      ],
      "metadata": {
        "id": "Q-vODcbLATVO"
      },
      "execution_count": null,
      "outputs": []
    },
    {
      "cell_type": "code",
      "source": [
        "\n",
        "with open(\"intents.json\") as file:\n",
        "  data = json.load(file)\n",
        "try:\n",
        "  with open(\"data.pickle\",\"rb\") as f:\n",
        "    words, labels, training, output = pickle.load(f)\n",
        "except:\n",
        "  words = []\n",
        "  labels = []\n",
        "  docs_x = []\n",
        "  docs_y = []\n",
        "  for intent in data[\"intents\"]:\n",
        "    for pattern in intent[\"patterns\"]:\n",
        "      wrds = nltk.word_tokenize(pattern)\n",
        "      words.extend(wrds)\n",
        "      docs_x.append(wrds)\n",
        "      docs_y.append(intent[\"tag\"])\n",
        "      \n",
        "      if intent[\"tag\"] not in labels:\n",
        "        labels.append(intent[\"tag\"])\n",
        "    words = [stemmer.stem(w.lower()) for w in words if w not in \"?\"]\n",
        "    words = sorted(list(set(words)))\n",
        "    labels = sorted(labels)\n",
        "    training = []\n",
        "    output = []\n",
        "    out_empty = [0 for _ in range(len(labels))]\n",
        "    for x, doc in enumerate(docs_x):\n",
        "      bag = []\n",
        "      wrds = [stemmer.stem(w) for w in doc]\n",
        "      for w in words:\n",
        "        if w in wrds:\n",
        "          bag.append(1)\n",
        "        else:\n",
        "          bag.append(0)\n",
        "      output_row = out_empty[:]\n",
        "      output_row[labels.index(docs_y[x])] = 1\n",
        "      training.append(bag)\n",
        "      output.append(output_row)\n",
        "    training = numpy.array(training)\n",
        "    output = numpy.array(output)\n",
        "    with open(\"data.pickle\",\"wb\") as f:\n",
        "      pickle.dump((words, labels, training, output),f)\n",
        "\n"
      ],
      "metadata": {
        "id": "Oz57mUlCCi2X"
      },
      "execution_count": null,
      "outputs": []
    },
    {
      "cell_type": "markdown",
      "source": [
        "# Nouvelle section"
      ],
      "metadata": {
        "id": "YKS3O6ng2KuL"
      }
    },
    {
      "cell_type": "code",
      "source": [
        "from google.colab import drive\n",
        "drive.mount('/content/drive')"
      ],
      "metadata": {
        "colab": {
          "base_uri": "https://localhost:8080/",
          "height": 346
        },
        "id": "rR3NuGEV2PsK",
        "outputId": "5cb28192-6231-4d98-975f-b7de654cd8db"
      },
      "execution_count": null,
      "outputs": [
        {
          "output_type": "error",
          "ename": "MessageError",
          "evalue": "ignored",
          "traceback": [
            "\u001b[0;31m---------------------------------------------------------------------------\u001b[0m",
            "\u001b[0;31mMessageError\u001b[0m                              Traceback (most recent call last)",
            "\u001b[0;32m<ipython-input-10-d5df0069828e>\u001b[0m in \u001b[0;36m<module>\u001b[0;34m()\u001b[0m\n\u001b[1;32m      1\u001b[0m \u001b[0;32mfrom\u001b[0m \u001b[0mgoogle\u001b[0m\u001b[0;34m.\u001b[0m\u001b[0mcolab\u001b[0m \u001b[0;32mimport\u001b[0m \u001b[0mdrive\u001b[0m\u001b[0;34m\u001b[0m\u001b[0;34m\u001b[0m\u001b[0m\n\u001b[0;32m----> 2\u001b[0;31m \u001b[0mdrive\u001b[0m\u001b[0;34m.\u001b[0m\u001b[0mmount\u001b[0m\u001b[0;34m(\u001b[0m\u001b[0;34m'/content/drive'\u001b[0m\u001b[0;34m)\u001b[0m\u001b[0;34m\u001b[0m\u001b[0;34m\u001b[0m\u001b[0m\n\u001b[0m",
            "\u001b[0;32m/usr/local/lib/python3.7/dist-packages/google/colab/drive.py\u001b[0m in \u001b[0;36mmount\u001b[0;34m(mountpoint, force_remount, timeout_ms, use_metadata_server)\u001b[0m\n\u001b[1;32m    113\u001b[0m       \u001b[0mforce_remount\u001b[0m\u001b[0;34m=\u001b[0m\u001b[0mforce_remount\u001b[0m\u001b[0;34m,\u001b[0m\u001b[0;34m\u001b[0m\u001b[0;34m\u001b[0m\u001b[0m\n\u001b[1;32m    114\u001b[0m       \u001b[0mtimeout_ms\u001b[0m\u001b[0;34m=\u001b[0m\u001b[0mtimeout_ms\u001b[0m\u001b[0;34m,\u001b[0m\u001b[0;34m\u001b[0m\u001b[0;34m\u001b[0m\u001b[0m\n\u001b[0;32m--> 115\u001b[0;31m       ephemeral=True)\n\u001b[0m\u001b[1;32m    116\u001b[0m \u001b[0;34m\u001b[0m\u001b[0m\n\u001b[1;32m    117\u001b[0m \u001b[0;34m\u001b[0m\u001b[0m\n",
            "\u001b[0;32m/usr/local/lib/python3.7/dist-packages/google/colab/drive.py\u001b[0m in \u001b[0;36m_mount\u001b[0;34m(mountpoint, force_remount, timeout_ms, use_metadata_server, ephemeral)\u001b[0m\n\u001b[1;32m    133\u001b[0m   \u001b[0;32mif\u001b[0m \u001b[0mephemeral\u001b[0m\u001b[0;34m:\u001b[0m\u001b[0;34m\u001b[0m\u001b[0;34m\u001b[0m\u001b[0m\n\u001b[1;32m    134\u001b[0m     _message.blocking_request(\n\u001b[0;32m--> 135\u001b[0;31m         'request_auth', request={'authType': 'dfs_ephemeral'}, timeout_sec=None)\n\u001b[0m\u001b[1;32m    136\u001b[0m \u001b[0;34m\u001b[0m\u001b[0m\n\u001b[1;32m    137\u001b[0m   \u001b[0mmountpoint\u001b[0m \u001b[0;34m=\u001b[0m \u001b[0m_os\u001b[0m\u001b[0;34m.\u001b[0m\u001b[0mpath\u001b[0m\u001b[0;34m.\u001b[0m\u001b[0mexpanduser\u001b[0m\u001b[0;34m(\u001b[0m\u001b[0mmountpoint\u001b[0m\u001b[0;34m)\u001b[0m\u001b[0;34m\u001b[0m\u001b[0;34m\u001b[0m\u001b[0m\n",
            "\u001b[0;32m/usr/local/lib/python3.7/dist-packages/google/colab/_message.py\u001b[0m in \u001b[0;36mblocking_request\u001b[0;34m(request_type, request, timeout_sec, parent)\u001b[0m\n\u001b[1;32m    173\u001b[0m   request_id = send_request(\n\u001b[1;32m    174\u001b[0m       request_type, request, parent=parent, expect_reply=True)\n\u001b[0;32m--> 175\u001b[0;31m   \u001b[0;32mreturn\u001b[0m \u001b[0mread_reply_from_input\u001b[0m\u001b[0;34m(\u001b[0m\u001b[0mrequest_id\u001b[0m\u001b[0;34m,\u001b[0m \u001b[0mtimeout_sec\u001b[0m\u001b[0;34m)\u001b[0m\u001b[0;34m\u001b[0m\u001b[0;34m\u001b[0m\u001b[0m\n\u001b[0m",
            "\u001b[0;32m/usr/local/lib/python3.7/dist-packages/google/colab/_message.py\u001b[0m in \u001b[0;36mread_reply_from_input\u001b[0;34m(message_id, timeout_sec)\u001b[0m\n\u001b[1;32m    104\u001b[0m         reply.get('colab_msg_id') == message_id):\n\u001b[1;32m    105\u001b[0m       \u001b[0;32mif\u001b[0m \u001b[0;34m'error'\u001b[0m \u001b[0;32min\u001b[0m \u001b[0mreply\u001b[0m\u001b[0;34m:\u001b[0m\u001b[0;34m\u001b[0m\u001b[0;34m\u001b[0m\u001b[0m\n\u001b[0;32m--> 106\u001b[0;31m         \u001b[0;32mraise\u001b[0m \u001b[0mMessageError\u001b[0m\u001b[0;34m(\u001b[0m\u001b[0mreply\u001b[0m\u001b[0;34m[\u001b[0m\u001b[0;34m'error'\u001b[0m\u001b[0;34m]\u001b[0m\u001b[0;34m)\u001b[0m\u001b[0;34m\u001b[0m\u001b[0;34m\u001b[0m\u001b[0m\n\u001b[0m\u001b[1;32m    107\u001b[0m       \u001b[0;32mreturn\u001b[0m \u001b[0mreply\u001b[0m\u001b[0;34m.\u001b[0m\u001b[0mget\u001b[0m\u001b[0;34m(\u001b[0m\u001b[0;34m'data'\u001b[0m\u001b[0;34m,\u001b[0m \u001b[0;32mNone\u001b[0m\u001b[0;34m)\u001b[0m\u001b[0;34m\u001b[0m\u001b[0;34m\u001b[0m\u001b[0m\n\u001b[1;32m    108\u001b[0m \u001b[0;34m\u001b[0m\u001b[0m\n",
            "\u001b[0;31mMessageError\u001b[0m: Error: credential propagation was unsuccessful"
          ]
        }
      ]
    },
    {
      "cell_type": "code",
      "source": [
        ""
      ],
      "metadata": {
        "id": "Z16Qx0F_PPwm"
      },
      "execution_count": null,
      "outputs": []
    },
    {
      "cell_type": "code",
      "source": [
        "\n",
        "  \n"
      ],
      "metadata": {
        "id": "mpj9qoATFsWA"
      },
      "execution_count": null,
      "outputs": []
    },
    {
      "cell_type": "code",
      "source": [
        "from tensorflow.python.framework import ops\n",
        "ops.reset_default_graph()\n",
        "net = tflearn.input_data(shape=[None, len(training[0])])\n",
        "net = tflearn.fully_connected(net, 8)\n",
        "net = tflearn.fully_connected(net, 8)\n",
        "net = tflearn.fully_connected(net, len(output[0]), activation=\"softmax\")\n",
        "net = tflearn.regression(net)\n",
        "\n",
        "model = tflearn.DNN(net)\n",
        "model.fit(training, output, n_epoch=1000, batch_size=8, show_metric=True)\n",
        "model.save(\"model.tflearn\")\n"
      ],
      "metadata": {
        "colab": {
          "base_uri": "https://localhost:8080/"
        },
        "id": "QF5IlCGuPRkI",
        "outputId": "3bb75beb-ab03-492c-ef18-621759c653ba"
      },
      "execution_count": null,
      "outputs": [
        {
          "output_type": "stream",
          "name": "stdout",
          "text": [
            "Training Step: 15999  | total loss: \u001b[1m\u001b[32m0.01880\u001b[0m\u001b[0m | time: 0.081s\n",
            "| Adam | epoch: 1000 | loss: 0.01880 - acc: 0.9931 -- iter: 120/121\n",
            "Training Step: 16000  | total loss: \u001b[1m\u001b[32m0.02569\u001b[0m\u001b[0m | time: 0.085s\n",
            "| Adam | epoch: 1000 | loss: 0.02569 - acc: 0.9938 -- iter: 121/121\n",
            "--\n",
            "INFO:tensorflow:/content/model.tflearn is not in all_model_checkpoint_paths. Manually adding it.\n"
          ]
        }
      ]
    },
    {
      "cell_type": "code",
      "source": [
        "def bag_of_words(s,words):\n",
        "  bag = [0 for _ in range(len(words))]\n",
        "\n",
        "  s_words = nltk.word_tokenize(s)\n",
        "  s_words = [stemmer.stem(word.lower()) for word in s_words]\n",
        "\n",
        "  for se in s_words:\n",
        "    for i, w in enumerate(words):\n",
        "      if w == se:\n",
        "        bag[i] = 1\n",
        "  return(numpy.array(bag))"
      ],
      "metadata": {
        "id": "LQWnb3b7b1D1"
      },
      "execution_count": null,
      "outputs": []
    },
    {
      "cell_type": "code",
      "source": [
        "def chat():\n",
        "  print(\"Start talking with the Bot(type quit to stop)!\")\n",
        "  while True:\n",
        "    inp = input(\"You: \")\n",
        "    if inp.lower() == \"quit\":\n",
        "      break\n",
        "    results = model.predict([bag_of_words(inp, words)])\n",
        "    results_index = numpy.argmax(results)\n",
        "    tag = labels[results_index]\n",
        "    for tg in data[\"intents\"]:\n",
        "      if tg['tag'] == tag:\n",
        "        responses = tg['responses']\n",
        "    print(random.choice(responses))\n",
        "    \n",
        "     "
      ],
      "metadata": {
        "id": "Ucx0JsQ6WBtN"
      },
      "execution_count": null,
      "outputs": []
    },
    {
      "cell_type": "code",
      "source": [
        "chat()"
      ],
      "metadata": {
        "colab": {
          "base_uri": "https://localhost:8080/"
        },
        "id": "bNHpkeeRhWSD",
        "outputId": "f33c8a05-cf15-446c-882d-1765497a7512"
      },
      "execution_count": null,
      "outputs": [
        {
          "name": "stdout",
          "output_type": "stream",
          "text": [
            "Start talking with the Bot(type quit to stop)!\n",
            "You: Hello\n",
            "Good to see you again\n",
            "You: How much?\n",
            "Can't Understand Your Question\n",
            "You: How much it costs?\n",
            "Yes\n",
            "You: \n",
            "please elaborate your question\n",
            "You: how you could deliver me?\n",
            "Please enter your email id ,we will send a link on your email\n",
            "You: abc@gmail.com\n",
            "Link has been shared.Please change your password\n",
            "You: I want to change my appointment\n",
            "The nearest manufacturer is Vietnam\n",
            "You: What are events?\n",
            "Recent news of Demonetisation & recession\n",
            "You: how is the market?\n",
            "It's 36C according to accuweather\n",
            "You: I want to meet Khaled\n",
            "I will just check if he is available or on leave.\n",
            "You: I have a problem\n",
            "Thanks For Asking!How can I help you?\n",
            "You: I miss Dorra\n",
            "please elaborate your question\n",
            "You: problem?\n",
            "Hello, thanks for asking\n",
            "You: Impacts on sale?\n",
            "this year sale might be impacted due to demonitisation\n",
            "You: improve sale?\n",
            "Production Schedule,Delivery Schedule,Proxy information about cost\n",
            "You: the customer response?\n",
            "Customer was happy and has given good rating\n",
            "You: Marry me?\n",
            "Please ask organisation related query.\n",
            "You: I love you?\n",
            "Please ask organisation related query.\n",
            "You: why why?\n",
            "Can't Understand Your Question\n",
            "You: turnover \n",
            "Block-D Ground Floor\n",
            "You: turnover of the company at present?\n",
            "Please enter with order ID\n",
            "You: 1245\n",
            "Can't Understand Your Question\n",
            "You: why is order 23A12 delayed?\n",
            "Delay is due to inavailable components\n",
            "You: name?\n",
            "Block-B 2nd Floor\n",
            "You: what your name?\n",
            "I'm Bruno\n",
            "You: how you are doing?\n",
            "Thanks For Asking!How can I help you?\n",
            "You: I need help\n",
            "I can provide support related to following problems technical query,management related query,order related query,tracking related query,procurement query,outsourcing problem,manufacturing delay,\n",
            "You: how to configure my laptop\n",
            "search tab->control panel->select specific application->download update->give permission\n",
            "You: what is the weather today?\n",
            "It's 36C according to accuweather\n",
            "You: why is order 23A12 delayed\n",
            "Delay is due to inavailable components\n",
            "You: Is Siddhart Roy present today and tomorrow?\n",
            "yes\n",
            "You: is Machel Sharma on leave?\n",
            "no\n",
            "You: is Machel Sharma on leave?\n",
            "no\n",
            "You: is Dorra on leave?\n",
            "Yes On Leave\n",
            "You: is Khaled onleave too?\n",
            "Can't Understand Your Question\n",
            "You: is Khaled on leave too?\n",
            "Yes On Leave\n",
            "You: khaled  leave?\n",
            "please elaborate your question\n",
            "You: is me on leaving?\n",
            "Yes On Leave\n",
            "You: Russia?\n",
            "Can't Understand Your Question\n",
            "You: is Russia alive?\n",
            "please elaborate your question\n",
            "You: i hate yoo\n",
            "please elaborate your question\n",
            "You: love me?\n",
            "Please ask organisation related query.\n",
            "You: opening hours?\n",
            "It is open from Monday-Saturday 9:00am-7:30pm\n",
            "You: VP cabin?\n",
            "Can't Understand Your Question\n",
            "You: where is VP Cabin?\n",
            "Block-D Ground Floor\n",
            "You: how to improve team members knowledge?\n",
            "set up key meetings and workshop,create a shared drive for information,Hold informal sharing session\n",
            "You: what do you thing about me?\n",
            "Please ask organisation related query.\n",
            "You: where are you?\n",
            "My pleasure\n",
            "You: will I marry?\n",
            "Please ask organisation related query.\n",
            "You: i need a plate\n",
            "please elaborate your question\n",
            "You: will I die?\n",
            "please elaborate your question\n",
            "You: why the delay?\n",
            "Customer was happy and has given good rating\n",
            "You: hhhh\n",
            "Can't Understand Your Question\n",
            "You: me and chatbot problems\n",
            "Hello, thanks for asking\n",
            "You: my options\n",
            "My pleasure\n",
            "You: my pleasure \n",
            "Any time!\n",
            "You: any time\n",
            "Hi there, how can I help?\n",
            "You: yes, of course\n",
            "See you!\n",
            "You: see you too\n",
            "See you!\n",
            "You: see you too too\n",
            "See you!\n",
            "You: thanks\n",
            "My pleasure\n",
            "You: me too\n",
            "Can't Understand Your Question\n",
            "You: my pleasure i mean\n",
            "please elaborate your question\n",
            "You: which?\n",
            "Please Contact the HR team for this problem.\n",
            "You: i will contact them \n",
            "Can't Understand Your Question\n",
            "You: quit\n"
          ]
        }
      ]
    }
  ]
}